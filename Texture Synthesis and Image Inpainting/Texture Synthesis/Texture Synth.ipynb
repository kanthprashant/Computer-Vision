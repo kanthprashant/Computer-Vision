{
 "cells": [
  {
   "cell_type": "code",
   "execution_count": 1,
   "metadata": {},
   "outputs": [],
   "source": [
    "from skimage import io\n",
    "import numpy as np\n",
    "from PIL import Image as im\n",
    "import seaborn as sn\n",
    "import matplotlib.pyplot as plt\n",
    "import math\n",
    "from IPython.display import clear_output\n",
    "from skimage.morphology import binary_dilation, square\n",
    "import scipy.stats as st\n",
    "import time"
   ]
  },
  {
   "cell_type": "code",
   "execution_count": 2,
   "metadata": {},
   "outputs": [],
   "source": [
    "def display(img, title):\n",
    "    io.imshow(img)\n",
    "    plt.title('{}'.format(title))\n",
    "    io.show()"
   ]
  },
  {
   "cell_type": "code",
   "execution_count": 3,
   "metadata": {},
   "outputs": [],
   "source": [
    "# Unfilled Neighbors\n",
    "def getUnfilledNeighbors(filled, filled_image_pad, kernel_size):\n",
    "\n",
    "    # returns index list, one for each axis (x[], y[])\n",
    "    unfilled = np.nonzero(binary_dilation(filled, square(3)) - filled) \n",
    "\n",
    "    # combine axis to get index of unfilled pixels (x,y)\n",
    "    coord = list(zip(unfilled[0], unfilled[1])) \n",
    "    \n",
    "    # get neighbor count for each unfilled pixel\n",
    "    neighbors = []\n",
    "    neighbors.append([np.sum(filled_image_pad[cd[0]:cd[0]+kernel_size, cd[1]:cd[1]+kernel_size]) for cd in coord])\n",
    "    unfilled_pixels = [c for _, c in sorted(zip(neighbors[0], coord), reverse = True)]\n",
    "    \n",
    "    return unfilled_pixels"
   ]
  },
  {
   "cell_type": "code",
   "execution_count": 4,
   "metadata": {},
   "outputs": [],
   "source": [
    "# Gaussian Kernel\n",
    "def Gaussian2D(kernel_size, sigma):\n",
    "    x = np.linspace(-sigma, sigma, kernel_size+1)\n",
    "    kern1d = np.diff(st.norm.cdf(x))\n",
    "    kern2d = np.outer(kern1d, kern1d)\n",
    "    return kern2d/kern2d.sum()\n",
    "    # x, y = np.meshgrid(np.linspace(-sigma, sigma, kernel_size), np.linspace(-sigma, sigma, kernel_size))\n",
    "    # dst = np.sqrt(x*x + y*y)\n",
    "    # mu = 0.0\n",
    "    # gauss = np.exp(-( (dst-mu)**2 / ( 2.0 * sigma**2 ) ) )\n",
    "    # return gauss/gauss.sum()"
   ]
  },
  {
   "cell_type": "code",
   "execution_count": 5,
   "metadata": {},
   "outputs": [],
   "source": [
    "# Find Matches for each unfilles pixel\n",
    "def FindMatches(pixel, template, patch_collection, filled_image_pad, kernel_size, sigma):\n",
    "    '''\n",
    "    validMask:      1s where Template is filled, 0s otherwise\n",
    "    gaussMask:      2D Gaussian Kernel, same size as validMask\n",
    "    templateMask:   gaussian weighted validMask\n",
    "    totalWeight:    sum of values of templateMask\n",
    "    reps:           total number of patches in patch_Collection\n",
    "    dSSD:           normalized sum of squared differences\n",
    "    '''\n",
    "    \n",
    "    validMask = filled_image_pad[pixel[0]:pixel[0]+kernel_size, pixel[1]:pixel[1]+kernel_size]\n",
    "    gaussMask = Gaussian2D(kernel_size, sigma)\n",
    "    templateMask = validMask * gaussMask\n",
    "    totalWeight = np.sum(templateMask)\n",
    "    # reps = patch_collection.shape[0]\n",
    "    # template = np.repeat(template[np.newaxis,:,:], reps, axis = 0)\n",
    "    # templateMask = np.repeat(templateMask[np.newaxis,:,:], reps, axis = 0)\n",
    "    dSSD = templateMask * np.square(template - patch_collection)\n",
    "    dSSD = np.sum(dSSD, axis=tuple(range(1,dSSD.ndim))) / totalWeight\n",
    "    min_err = np.min(dSSD)\n",
    "    \n",
    "    bestMatches = [[i, d] for i, d in enumerate(dSSD) if d <= min_err*(1+errThreshold)]\n",
    "    \n",
    "    return bestMatches"
   ]
  },
  {
   "cell_type": "code",
   "execution_count": 6,
   "metadata": {},
   "outputs": [],
   "source": [
    "# get example patches for image synthesis\n",
    "def genPatches(img, kernel_size):\n",
    "    if len(img.shape) > 2:\n",
    "        imgRows, imgCols, imgChannels = img.shape\n",
    "    else:\n",
    "        imgRows, imgCols = img.shape\n",
    "    \n",
    "    n_ex_rows = imgRows - (kernel_size - 1)\n",
    "    n_ex_cols = imgCols - (kernel_size - 1)\n",
    "\n",
    "    # initialise example Patches array\n",
    "    patch_collection = np.zeros((n_ex_rows*n_ex_cols, kernel_size, kernel_size))\n",
    "\n",
    "    for r in range(n_ex_rows):\n",
    "        for c in range(n_ex_cols):\n",
    "            patch_collection[r*n_ex_cols + c] = img[r:r+kernel_size, c:c+kernel_size]\n",
    "    \n",
    "    return patch_collection"
   ]
  },
  {
   "cell_type": "code",
   "execution_count": 7,
   "metadata": {},
   "outputs": [],
   "source": [
    "# seed\n",
    "def seed(img, output_dimx, output_dimy, seed_size, disp = False):\n",
    "    # take random 3x3 slice from sample image\n",
    "    margin = math.floor(seed_size/2) #leave margin of 1 to avoid ArrayIndexOutOfBounds during random selection of patch from sample image\n",
    "    imgRows = 0\n",
    "    imgCols = 0\n",
    "    imgChannels = 0\n",
    "    \n",
    "    if len(img.shape) > 2:\n",
    "        imgRows, imgCols, imgChannels = img.shape\n",
    "    else:\n",
    "        imgRows, imgCols = img.shape\n",
    "    \n",
    "    slice_row = np.random.randint(margin, imgRows-margin-1)\n",
    "    slice_col = np.random.randint(margin, imgCols-margin-1)\n",
    "    \n",
    "    s = math.floor(seed_size/2)\n",
    "\n",
    "    print(\"Random patch selection, center: ({},{})\".format(slice_row, slice_col))\n",
    "    patch = img[slice_row-margin:slice_row+margin+1, slice_col-margin:slice_col+margin+1]   #+2 because upper bound is not included\n",
    "\n",
    "    # seed synthesized image with random patch\n",
    "    synth_image = np.zeros((output_dimx, output_dimy))\n",
    "    filled_image = np.zeros((output_dimx, output_dimy))\n",
    "\n",
    "    c_r = math.floor(output_dimx/2)\n",
    "    c_c = math.floor(output_dimy/2)\n",
    "    synth_image[c_r-margin:c_r+margin+1, c_c-margin:c_c+margin+1] = patch\n",
    "    filled_image[c_r-margin:c_r+margin+1, c_c-margin:c_c+margin+1] = 1\n",
    "\n",
    "    if disp == True:\n",
    "        display(synth_image, \"Synthesized Seed\")\n",
    "    \n",
    "    return synth_image, filled_image"
   ]
  },
  {
   "cell_type": "code",
   "execution_count": 8,
   "metadata": {},
   "outputs": [],
   "source": [
    "#read sample image\n",
    "def readImage(image, disp = False):\n",
    "    img = io.imread('./'+image)\n",
    "\n",
    "    if disp == True:\n",
    "        display(img, \"Read Image-{}\".format(image.split('/')[1]))\n",
    "\n",
    "    return img"
   ]
  },
  {
   "cell_type": "code",
   "execution_count": 9,
   "metadata": {},
   "outputs": [],
   "source": [
    "imageFolder = 'Assignment-II-images-1'\n",
    "outFolder = './synImages/'\n",
    "images = ['T1.gif', 'T2.gif', 'T3.gif', 'T4.gif', 'T5.gif']\n",
    "kernel_size = [5, 9, 11]\n",
    "errThreshold = 0.1\n",
    "maxErrThreshold = 0.3\n",
    "output_dimx = 200\n",
    "output_dimy = 200\n",
    "seed_size = 3\n",
    "total_pixels = output_dimx * output_dimy\n",
    "disp = False\n",
    "f = open(outFolder+'log.txt', \"w\")\n",
    "f.close()"
   ]
  },
  {
   "cell_type": "code",
   "execution_count": 10,
   "metadata": {},
   "outputs": [
    {
     "name": "stdout",
     "output_type": "stream",
     "text": [
      " Image = T5.gif, kernel = 11, pixels_left = 0\n"
     ]
    }
   ],
   "source": [
    "for img_file in images:\n",
    "    image = imageFolder+'/'+img_file\n",
    "    img = readImage(image, disp)\n",
    "    # pixel values are in the range 0 to 1\n",
    "    img = img/255.0\n",
    "    \n",
    "    for kernel in kernel_size:\n",
    "        start = time.time()\n",
    "\n",
    "        synth_image, filled_image = seed(img, output_dimx, output_dimy, seed_size, disp)\n",
    "        filled_pixels = seed_size * seed_size\n",
    "        half_kernel = math.floor(kernel/2)\n",
    "        sigma = kernel/6.4\n",
    "        filled_image_pad = np.pad(filled_image, half_kernel, 'constant')\n",
    "        synth_image_pad = np.pad(synth_image, half_kernel, 'constant')\n",
    "\n",
    "        patch_collection = genPatches(img, kernel)\n",
    "\n",
    "        while filled_pixels < total_pixels:\n",
    "            progress = 0\n",
    "            pixelList = getUnfilledNeighbors(filled_image, filled_image_pad, kernel)\n",
    "            # pixelList, order = getUnfilledNeighbors(filled_image, filled_image_pad, kernel)\n",
    "            for pixel in pixelList:\n",
    "                template = synth_image_pad[pixel[0]:pixel[0]+kernel, pixel[1]:pixel[1]+kernel]\n",
    "                bestMatches = FindMatches(pixel, template, patch_collection, filled_image_pad, kernel, sigma)\n",
    "                bestMatch = np.random.randint(0, len(bestMatches))\n",
    "                if bestMatches[bestMatch][1] < maxErrThreshold:\n",
    "                    # synth_image[pixel[0], pixel[1]] = patch_collection[bestMatch, half_kernel, half_kernel]\n",
    "                    synth_image[pixel[0], pixel[1]] = patch_collection[bestMatches[bestMatch][0], half_kernel, half_kernel]\n",
    "                    synth_image_pad[pixel[0]+half_kernel, pixel[1]+half_kernel] = patch_collection[bestMatches[bestMatch][0], half_kernel, half_kernel]\n",
    "                    filled_image[pixel[0], pixel[1]] = 1\n",
    "                    filled_image_pad[pixel[0]+half_kernel, pixel[1]+half_kernel] = 1\n",
    "                    filled_pixels += 1\n",
    "                    progress = 1\n",
    "            if progress == 0:\n",
    "                maxErrThreshold = maxErrThreshold * 1.1\n",
    "            clear_output()\n",
    "            print(\" Image = {}, kernel = {}, pixels_left = {}\".format(img_file, kernel, total_pixels-filled_pixels))\n",
    "            \n",
    "            if disp == True:\n",
    "                display(synth_image, \"Synthesizing Image: {}, kernel: {}\".format(img_file.split('.')[0], kernel))\n",
    "        \n",
    "        end = time.time()\n",
    "\n",
    "        # save synthesized image\n",
    "        final_image = im.fromarray(synth_image*255)\n",
    "        final_image.save(outFolder+img_file.split('.')[0]+'_k'+str(kernel)+'.'+img_file.split('.')[1])\n",
    "\n",
    "        # write log file\n",
    "        writeLine = \"File: {}, Kernel Size:{}, Time Taken:{} seconds\\n\".format(img_file, kernel, round(end-start,4))\n",
    "        # append to the file\n",
    "        with open(outFolder+\"log.txt\", \"a\") as f:\n",
    "            f.write(writeLine)\n"
   ]
  },
  {
   "cell_type": "code",
   "execution_count": null,
   "metadata": {},
   "outputs": [],
   "source": []
  }
 ],
 "metadata": {
  "interpreter": {
   "hash": "b0fa6594d8f4cbf19f97940f81e996739fb7646882a419484c72d19e05852a7e"
  },
  "kernelspec": {
   "display_name": "Python 3.9.10 64-bit",
   "language": "python",
   "name": "python3"
  },
  "language_info": {
   "codemirror_mode": {
    "name": "ipython",
    "version": 3
   },
   "file_extension": ".py",
   "mimetype": "text/x-python",
   "name": "python",
   "nbconvert_exporter": "python",
   "pygments_lexer": "ipython3",
   "version": "3.9.10"
  },
  "orig_nbformat": 4
 },
 "nbformat": 4,
 "nbformat_minor": 2
}
